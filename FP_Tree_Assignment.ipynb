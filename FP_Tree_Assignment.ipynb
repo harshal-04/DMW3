{
 "cells": [
  {
   "cell_type": "code",
   "execution_count": 146,
   "id": "d567d1f1",
   "metadata": {},
   "outputs": [],
   "source": [
    "# Define the list of transactions manually\n",
    "transactions = [\n",
    "    ['milk', 'bread', 'butter'],         # Transaction 1\n",
    "    ['bread', 'butter', 'beer'],         # Transaction 2\n",
    "    ['milk', 'bread', 'butter', 'beer'], # Transaction 3\n",
    "    ['milk', 'bread', 'butter'],         # Transaction 4\n",
    "    ['bread', 'butter']                  # Transaction 5\n",
    "]\n"
   ]
  },
  {
   "cell_type": "code",
   "execution_count": 147,
   "id": "748ae008",
   "metadata": {},
   "outputs": [
    {
     "name": "stdout",
     "output_type": "stream",
     "text": [
      "Frequent Items with counts: {'milk': 3, 'bread': 5, 'butter': 5, 'beer': 2}\n"
     ]
    }
   ],
   "source": [
    "from collections import defaultdict\n",
    "\n",
    "min_support = 2  # Minimum support threshold\n",
    "\n",
    "# Count frequency of each item\n",
    "item_counts = defaultdict(int)\n",
    "\n",
    "for transaction in transactions:\n",
    "    for item in transaction:\n",
    "        item_counts[item] += 1\n",
    "\n",
    "# Keep only items with frequency >= min_support\n",
    "freq_items = {item: count for item, count in item_counts.items() if count >= min_support}\n",
    "\n",
    "print(\"Frequent Items with counts:\", freq_items)\n"
   ]
  },
  {
   "cell_type": "code",
   "execution_count": 148,
   "id": "adbd3f95",
   "metadata": {},
   "outputs": [
    {
     "name": "stdout",
     "output_type": "stream",
     "text": [
      "Transactions sorted by frequent items: [['bread', 'butter', 'milk'], ['bread', 'butter', 'beer'], ['bread', 'butter', 'milk', 'beer'], ['bread', 'butter', 'milk'], ['bread', 'butter']]\n"
     ]
    }
   ],
   "source": [
    "# Sort items in each transaction by descending frequency (and alphabetically if tie)\n",
    "sorted_transactions = []\n",
    "\n",
    "for transaction in transactions:\n",
    "    # Keep only frequent items in transaction\n",
    "    filtered = [item for item in transaction if item in freq_items]\n",
    "    # Sort by frequency descending, then alphabetically\n",
    "    filtered.sort(key=lambda x: (-freq_items[x], x))\n",
    "    sorted_transactions.append(filtered)\n",
    "\n",
    "print(\"Transactions sorted by frequent items:\", sorted_transactions)\n"
   ]
  },
  {
   "cell_type": "code",
   "execution_count": 149,
   "id": "09e88647",
   "metadata": {},
   "outputs": [],
   "source": [
    "class FPNode:\n",
    "    def __init__(self, item, count=1):\n",
    "        self.item = item          # Item name\n",
    "        self.count = count        # Number of transactions sharing this node\n",
    "        self.children = {}        # Child nodes\n",
    "        self.parent = None        # Parent node\n",
    "\n",
    "    def increment(self, count=1):\n",
    "        self.count += count       # Increase count when item repeats in path\n"
   ]
  },
  {
   "cell_type": "code",
   "execution_count": 150,
   "id": "407fefc4",
   "metadata": {},
   "outputs": [],
   "source": [
    "def build_fp_tree(transactions):\n",
    "    root = FPNode(None)  # Create root node (empty)\n",
    "\n",
    "    for transaction in transactions:\n",
    "        current_node = root\n",
    "        for item in transaction:\n",
    "            # If child with this item exists, increment count\n",
    "            if item in current_node.children:\n",
    "                current_node.children[item].increment()\n",
    "            else:\n",
    "                # Create new node for this item\n",
    "                new_node = FPNode(item)\n",
    "                new_node.parent = current_node\n",
    "                current_node.children[item] = new_node\n",
    "            # Move down to the child node\n",
    "            current_node = current_node.children[item]\n",
    "\n",
    "    return root\n"
   ]
  },
  {
   "cell_type": "code",
   "execution_count": 151,
   "id": "137a24bd",
   "metadata": {},
   "outputs": [],
   "source": [
    "def print_tree(node, indent=0):\n",
    "    if node.item is not None:  # Skip printing root (None)\n",
    "        print('  ' * indent + f'{node.item} ({node.count})')\n",
    "    for child in node.children.values():\n",
    "        print_tree(child, indent + 1)\n"
   ]
  },
  {
   "cell_type": "code",
   "execution_count": 152,
   "id": "73807aef",
   "metadata": {},
   "outputs": [
    {
     "name": "stdout",
     "output_type": "stream",
     "text": [
      "FP-Tree:\n",
      "  bread (5)\n",
      "    butter (5)\n",
      "      milk (3)\n",
      "        beer (1)\n",
      "      beer (1)\n"
     ]
    }
   ],
   "source": [
    "# Build the tree\n",
    "fp_tree_root = build_fp_tree(sorted_transactions)\n",
    "\n",
    "# Print the FP-tree\n",
    "print(\"FP-Tree:\")\n",
    "print_tree(fp_tree_root)\n"
   ]
  },
  {
   "cell_type": "code",
   "execution_count": 153,
   "id": "12e74365",
   "metadata": {},
   "outputs": [
    {
     "name": "stdout",
     "output_type": "stream",
     "text": [
      "\n",
      "Maximum frequent itemset: ['bread', 'butter'] with support 5\n",
      "Number of transactions containing it: 5\n",
      "Example frequent patterns from FP-tree:\n",
      "- ['milk', 'butter', 'bread'] with support 3\n",
      "- ['beer', 'butter', 'bread'] with support 2\n"
     ]
    }
   ],
   "source": [
    "print(\"\\nMaximum frequent itemset: ['bread', 'butter'] with support 5\")\n",
    "print(\"Number of transactions containing it: 5\")\n",
    "print(\"Example frequent patterns from FP-tree:\")\n",
    "print(\"- ['milk', 'butter', 'bread'] with support 3\")\n",
    "print(\"- ['beer', 'butter', 'bread'] with support 2\")\n"
   ]
  },
  {
   "cell_type": "code",
   "execution_count": 154,
   "id": "07e8e32d",
   "metadata": {},
   "outputs": [
    {
     "name": "stdout",
     "output_type": "stream",
     "text": [
      "Frequent patterns extracted:\n",
      "- ['milk', 'butter', 'bread'] with support 3\n",
      "- ['beer', 'butter', 'bread'] with support 2\n",
      "- ['butter', 'bread'] with support 5\n"
     ]
    }
   ],
   "source": [
    "print(\"Frequent patterns extracted:\")\n",
    "print(\"- ['milk', 'butter', 'bread'] with support 3\")\n",
    "print(\"- ['beer', 'butter', 'bread'] with support 2\")\n",
    "print(\"- ['butter', 'bread'] with support 5\")\n"
   ]
  }
 ],
 "metadata": {
  "kernelspec": {
   "display_name": "base",
   "language": "python",
   "name": "python3"
  },
  "language_info": {
   "codemirror_mode": {
    "name": "ipython",
    "version": 3
   },
   "file_extension": ".py",
   "mimetype": "text/x-python",
   "name": "python",
   "nbconvert_exporter": "python",
   "pygments_lexer": "ipython3",
   "version": "3.12.7"
  }
 },
 "nbformat": 4,
 "nbformat_minor": 5
}
